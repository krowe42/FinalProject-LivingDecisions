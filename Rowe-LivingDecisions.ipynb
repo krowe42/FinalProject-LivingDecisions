{
 "cells": [
  {
   "cell_type": "markdown",
   "id": "ca726df7",
   "metadata": {},
   "source": [
    "# Living Decisions"
   ]
  },
  {
   "cell_type": "markdown",
   "id": "2a895664",
   "metadata": {},
   "source": [
    "I'm about to graduate from The Fletcher School, and I want to make sure that IF I return to Boston post-covid, I find the right place to live. Enter this short, somewhat silly project."
   ]
  },
  {
   "cell_type": "markdown",
   "id": "dca5462d",
   "metadata": {},
   "source": []
  },
  {
   "cell_type": "code",
   "execution_count": null,
   "id": "c92acc18",
   "metadata": {},
   "outputs": [],
   "source": []
  },
  {
   "cell_type": "code",
   "execution_count": null,
   "id": "c9ae9be3",
   "metadata": {},
   "outputs": [],
   "source": []
  },
  {
   "cell_type": "code",
   "execution_count": null,
   "id": "4899d585",
   "metadata": {},
   "outputs": [],
   "source": []
  },
  {
   "cell_type": "code",
   "execution_count": null,
   "id": "bae183fc",
   "metadata": {},
   "outputs": [],
   "source": []
  },
  {
   "cell_type": "code",
   "execution_count": null,
   "id": "596cff81",
   "metadata": {},
   "outputs": [],
   "source": []
  },
  {
   "cell_type": "markdown",
   "id": "08f96205",
   "metadata": {},
   "source": [
    "will need to clip the zip codes to make sure we're only looking at the right zips (geopandas geometry relations https://geopandas.org/getting_started/introduction.html#Geometry-relations)"
   ]
  },
  {
   "cell_type": "markdown",
   "id": "13dc4cde",
   "metadata": {},
   "source": [
    "they are not cleaning the files for us. pandas will help with that, uku says."
   ]
  },
  {
   "cell_type": "markdown",
   "id": "0fbf39d2",
   "metadata": {},
   "source": [
    "going to need to remove or deal with the descriptive column and the non-descriptive column that just has codes - might be better to rename them to something easier?\n",
    "you don't have to delete the second row in pandas. pandas.pydata.org/docs/reference/api/pandas.read_csv.html\n",
    "- you can use header to tell it to use the first row as column names. this should be the top row, the non-descript row.\n",
    "- use skiprows to skip the second row. it's an awful row.\n",
    "\n",
    "make sure you're dealing with the estimate, not the margin of error. but look at the margin of error to see if its too big.\n",
    "\n",
    "don't do any cleaning in excel. if you do, mention in readme that you did pre-processing.\n",
    "\n",
    "but just bring it in and deal with it in pandas. it's more reproducible that way."
   ]
  },
  {
   "cell_type": "markdown",
   "id": "f9d5d444",
   "metadata": {},
   "source": [
    "coastal features will help us create our own base map if we want to. but we'd probably have to mask out the water.\n",
    "\n",
    "be sure to download something about bike lanes from the mass.gov stuff https://docs.digital.mass.gov/dataset/massgis-data-layers\n",
    "\n",
    "be sure you're using massachussets state plane. mass.gov stuff will come in like that, but the census data probably won't. don't forget to set that.\n",
    "\n",
    "open street map can help bring in restaurants!"
   ]
  },
  {
   "cell_type": "markdown",
   "id": "74b19a56",
   "metadata": {},
   "source": [
    "contextily lets you bring in basemaps \n",
    "\n"
   ]
  }
 ],
 "metadata": {
  "kernelspec": {
   "display_name": "Python 3",
   "language": "python",
   "name": "python3"
  },
  "language_info": {
   "codemirror_mode": {
    "name": "ipython",
    "version": 3
   },
   "file_extension": ".py",
   "mimetype": "text/x-python",
   "name": "python",
   "nbconvert_exporter": "python",
   "pygments_lexer": "ipython3",
   "version": "3.8.6"
  }
 },
 "nbformat": 4,
 "nbformat_minor": 5
}
