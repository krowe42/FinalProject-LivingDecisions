{
 "cells": [
  {
   "cell_type": "markdown",
   "id": "eafb9ea9",
   "metadata": {},
   "source": [
    "# Living Decisions"
   ]
  },
  {
   "cell_type": "markdown",
   "id": "2c8f3a5d",
   "metadata": {},
   "source": [
    "## Introduction\n",
    "\n",
    "I'm about to graduate from The Fletcher School, and I want to make sure that IF I return to Boston post-covid, I find the right place to live. Enter this short, somewhat silly project. The purpose of this analysis is to determine where I should, based on factors I have identified as particularly important to my own individual happiness, including:\n",
    "\n",
    "- **Impervious surface** - The more impervious surfaces there are, the less green space there is. I'd like a lot of green space.\n",
    "- **Boston land cover** - The lower the intensity of a developed area, the better - but it does have to be developed.\n",
    "- **Tree canopy** - Trees have previously been directly linked to my happiness.\n",
    "- **Proximity to farmers markets** - I like to have fresh veggies and fresher baked goods every weekend.\n",
    "- **Proximity to libraries** - Crucial for recouping the amount of money I expended on books in grad school.\n",
    "- **Proximity to restaurants** - Having lived in a rural town with little access to restaurant food for the last year, I'd like some good ones close by.\n",
    "- **Resident age** - Some of my happiness is based on making friends. While that is aboslutely not limited to a certain age bracket, it would be nice to have young-ish people to hang out with."
   ]
  },
  {
   "cell_type": "markdown",
   "id": "ea8a9c3b",
   "metadata": {},
   "source": [
    "## The Data\n",
    "\n",
    "In case you would like to investigate the data I used for myself, you'll find it in the `data` folder, which contains the following files:\n",
    "\n",
    "- `data/raster/NLCD/NLCD_2016_Impervious_Boston.tif` - impervious surface raster for Boston and the surrounding area (GeoTIFF)\n",
    "- `data/raster/NLCD/NLCD_2016_Land_Cover_Boston.tif` - land cover raster for Boston and the surrounding area (GeoTIFF)\n",
    "- `data/raster/NLCD/NLCD_Land_Cover_Legend.jpg` - the key for the land cover raster (JPG)\n",
    "- `data/raster/NLCD/NLCD_2016_Tree_Canopy_Boston.tif` - tree canopy raster for Boston and the surrounding area (GeoTIFF)\n",
    "- `data/vector/MassGIS/FARMERSMARKETS_PT/FARMERSMARKETS_PT.shp` - farmers markets of Boston (ESRI shapefile)\n",
    "- `data/vector/MassGIS/LIBRARIES_PT/LIBRARIES_PT.shp` - Boston libraries (ESRI shapefile)\n",
    "- `data/tabular/ACSST5Y2019.S0101/ACSST5Y2019.S0101_data_with_overlays.csv` - resident age data by zip code for Boston (.csv)\n",
    "- `data/vector/Census/tl_2010_25_zcta510/tl_2010_25_zcta510.shp` - zip code boundaries shapefile for Boston (ESRI shapefile)"
   ]
  },
  {
   "cell_type": "markdown",
   "id": "cd49abe1-196f-4869-a597-ae6654dfa9cc",
   "metadata": {},
   "source": [
    "Data from OpenStreetMap will be added during the analysis."
   ]
  },
  {
   "cell_type": "markdown",
   "id": "115ca30b",
   "metadata": {},
   "source": [
    "## Analysis Overview\n",
    "\n",
    "Here is a rough outline of the analysis I will perform:\n",
    "\n",
    "1. Read in and visualize the raster datasets\n",
    "2. **Impervious surface area** > reclassify for impervious surface preferences (more impervious = less desirable)\n",
    "3. **Land cover** > reclassify for land cover preferences\n",
    "4. **Tree canopy** > reclassify for tree canopy preferences\n",
    "5. **Farmers markets** > rasterize shapefile > get euclidean distance raster > reclassify (close = more desirable)\n",
    "6. **Libraries** > rasterize shapefile > get euclidean distance raster > reclassify (close = more desirable)\n",
    "7. **Restaurants** > pull restaurant data from OpenStreetMap > rasterize shapefile > get euclidean distance raster > reclassify (close = more desirable)\n",
    "8. **Resident age** > calculate average age by zip code > join to zip code shapefile > rasterize shapefile > reclassify (close to 30 = more desirable)\n",
    "9. Calculate weighted and unweighted desirability raster from all of the reclassified rasters\n",
    "10. Mask desirability rasters to the shape of Boston\n",
    "11. Use zonal stats to determine the average desirability by zip code"
   ]
  },
  {
   "cell_type": "markdown",
   "id": "bbcb5c11",
   "metadata": {},
   "source": [
    "## Import Dependencies"
   ]
  },
  {
   "cell_type": "code",
   "execution_count": 9,
   "id": "c0579c63",
   "metadata": {},
   "outputs": [],
   "source": [
    "import rasterio\n",
    "from rasterio.plot import show\n",
    "from rasterio import features\n",
    "\n",
    "import numpy as np\n",
    "import geopandas as gpd\n",
    "import pandas as pd\n",
    "import matplotlib.pyplot as plt\n",
    "\n",
    "from scipy import ndimage\n",
    "from rasterstats import zonal_stats"
   ]
  },
  {
   "cell_type": "markdown",
   "id": "7636d775-bcef-490c-a989-465bb41fae57",
   "metadata": {},
   "source": [
    "## Raster Checks\n",
    "\n",
    "Before I start, I want to check to see if all three of the rasters I'll be using have the same metadata."
   ]
  },
  {
   "cell_type": "code",
   "execution_count": 11,
   "id": "2e838ad5-2418-42f6-94a3-6031a9e5d6b3",
   "metadata": {},
   "outputs": [
    {
     "data": {
      "text/plain": [
       "True"
      ]
     },
     "execution_count": 11,
     "metadata": {},
     "output_type": "execute_result"
    }
   ],
   "source": [
    "# Open and look at the impervious surface area raster\n",
    "with rasterio.open('data/raster/NLCD/NLCD_2016_Impervious_Boston.tif') as impervious_check:\n",
    "    impervious_meta = impervious_check.meta\n",
    "with rasterio.open('data/raster/NLCD/NLCD_2016_Land_Cover_Boston.tif') as landcover_check:\n",
    "    landcover_meta = landcover_check.meta\n",
    "with rasterio.open('data/raster/NLCD/NLCD_2016_Tree_Canopy_Boston.tif') as tree_check:\n",
    "    tree_meta = tree_check.meta\n",
    "\n",
    "impervious_meta == landcover_meta == tree_meta"
   ]
  },
  {
   "cell_type": "markdown",
   "id": "6f5e26e2-bc81-4021-b1c2-5c958c928718",
   "metadata": {},
   "source": [
    "## Impervious Surface Area"
   ]
  },
  {
   "cell_type": "code",
   "execution_count": null,
   "id": "122d359b-e44a-4fa8-8f6c-8d1d09c746dd",
   "metadata": {},
   "outputs": [],
   "source": []
  },
  {
   "cell_type": "markdown",
   "id": "5f7c393e-0bce-4dd6-8758-aa5ff8fb56bd",
   "metadata": {},
   "source": [
    "## Land Cover"
   ]
  },
  {
   "cell_type": "code",
   "execution_count": null,
   "id": "11240293-d32c-4004-ae50-4041f596871b",
   "metadata": {},
   "outputs": [],
   "source": []
  },
  {
   "cell_type": "markdown",
   "id": "ff9f8a40-6ccb-45e9-8d61-806df3ea39c1",
   "metadata": {},
   "source": [
    "## Tree Canopy"
   ]
  },
  {
   "cell_type": "code",
   "execution_count": null,
   "id": "b24298a8-e1ad-4a9b-af91-4fd6a22628f6",
   "metadata": {},
   "outputs": [],
   "source": []
  },
  {
   "cell_type": "markdown",
   "id": "7b756582-ddf4-4770-954a-b397b5806d8a",
   "metadata": {},
   "source": [
    "## Farmers Markets"
   ]
  },
  {
   "cell_type": "code",
   "execution_count": null,
   "id": "a53f4aa7-2760-4c49-9b85-6204ec0899f5",
   "metadata": {},
   "outputs": [],
   "source": []
  },
  {
   "cell_type": "markdown",
   "id": "5fb92153-e9c5-4ebb-934a-0fee21519c83",
   "metadata": {},
   "source": [
    "## Libraries"
   ]
  },
  {
   "cell_type": "code",
   "execution_count": null,
   "id": "3b328e80-643b-4eaa-93bc-cadaa422a7dd",
   "metadata": {},
   "outputs": [],
   "source": []
  },
  {
   "cell_type": "markdown",
   "id": "77ebce3b-88e4-4694-8bdc-4f0eae86235b",
   "metadata": {},
   "source": [
    "## Restaurants"
   ]
  },
  {
   "cell_type": "code",
   "execution_count": null,
   "id": "3e5b4916-6a87-45a9-868c-ebd1b64b92e5",
   "metadata": {},
   "outputs": [],
   "source": []
  },
  {
   "cell_type": "markdown",
   "id": "1335bdee-2fee-4df7-9f22-4fb607bae6be",
   "metadata": {},
   "source": [
    "## Resident Age"
   ]
  },
  {
   "cell_type": "code",
   "execution_count": null,
   "id": "b84301ff-e664-46cc-8bee-5526a0286825",
   "metadata": {},
   "outputs": [],
   "source": []
  },
  {
   "cell_type": "markdown",
   "id": "adaea065-76d8-43f2-833f-3d0a818e7a03",
   "metadata": {},
   "source": [
    "### Notes to self"
   ]
  },
  {
   "cell_type": "markdown",
   "id": "606076be",
   "metadata": {},
   "source": [
    "will need to clip the zip codes to make sure we're only looking at the right zips (geopandas geometry relations https://geopandas.org/getting_started/introduction.html#Geometry-relations)"
   ]
  },
  {
   "cell_type": "markdown",
   "id": "79882886",
   "metadata": {},
   "source": [
    "they are not cleaning the files for us. pandas will help with that, uku says."
   ]
  },
  {
   "cell_type": "markdown",
   "id": "c72e84f1",
   "metadata": {},
   "source": [
    "going to need to remove or deal with the descriptive column and the non-descriptive column that just has codes - might be better to rename them to something easier?\n",
    "you don't have to delete the second row in pandas. pandas.pydata.org/docs/reference/api/pandas.read_csv.html\n",
    "- you can use header to tell it to use the first row as column names. this should be the top row, the non-descript row.\n",
    "- use skiprows to skip the second row. it's an awful row.\n",
    "\n",
    "make sure you're dealing with the estimate, not the margin of error. but look at the margin of error to see if its too big.\n",
    "\n",
    "don't do any cleaning in excel. if you do, mention in readme that you did pre-processing.\n",
    "\n",
    "but just bring it in and deal with it in pandas. it's more reproducible that way."
   ]
  },
  {
   "cell_type": "markdown",
   "id": "da0d57b3",
   "metadata": {},
   "source": [
    "coastal features will help us create our own base map if we want to. but we'd probably have to mask out the water.\n",
    "\n",
    "be sure to download something about bike lanes from the mass.gov stuff https://docs.digital.mass.gov/dataset/massgis-data-layers\n",
    "\n",
    "be sure you're using massachussets state plane. mass.gov stuff will come in like that, but the census data probably won't. don't forget to set that.\n",
    "\n",
    "open street map can help bring in restaurants!"
   ]
  },
  {
   "cell_type": "markdown",
   "id": "c8c3090f",
   "metadata": {},
   "source": [
    "contextily lets you bring in basemaps \n",
    "\n"
   ]
  }
 ],
 "metadata": {
  "kernelspec": {
   "display_name": "Python 3",
   "language": "python",
   "name": "python3"
  },
  "language_info": {
   "codemirror_mode": {
    "name": "ipython",
    "version": 3
   },
   "file_extension": ".py",
   "mimetype": "text/x-python",
   "name": "python",
   "nbconvert_exporter": "python",
   "pygments_lexer": "ipython3",
   "version": "3.8.8"
  }
 },
 "nbformat": 4,
 "nbformat_minor": 5
}
