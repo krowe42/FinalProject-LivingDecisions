{
 "cells": [
  {
   "cell_type": "markdown",
   "id": "3d57758a",
   "metadata": {},
   "source": [
    "will need to clip the zip codes to make sure we're only looking at the right zips (geopandas geometry relations https://geopandas.org/getting_started/introduction.html#Geometry-relations)"
   ]
  },
  {
   "cell_type": "markdown",
   "id": "749a2a43",
   "metadata": {},
   "source": [
    "they are not cleaning the files for us. pandas will help with that, uku says."
   ]
  },
  {
   "cell_type": "markdown",
   "id": "381edcbf",
   "metadata": {},
   "source": [
    "going to need to remove or deal with the descriptive column and the non-descriptive column that just has codes - might be better to rename them to something easier?\n",
    "you don't have to delete the second row in pandas. pandas.pydata.org/docs/reference/api/pandas.read_csv.html\n",
    "- you can use header to tell it to use the first row as column names. this should be the top row, the non-descript row.\n",
    "- use skiprows to skip the second row. it's an awful row.\n",
    "\n",
    "make sure you're dealing with the estimate, not the margin of error. but look at the margin of error to see if its too big.\n",
    "\n",
    "don't do any cleaning in excel. if you do, mention in readme that you did pre-processing.\n",
    "\n",
    "but just bring it in and deal with it in pandas. it's more reproducible that way."
   ]
  },
  {
   "cell_type": "markdown",
   "id": "728142f1",
   "metadata": {},
   "source": [
    "coastal features will help us create our own base map if we want to. but we'd probably have to mask out the water.\n",
    "\n",
    "be sure to download something about bike lanes from the mass.gov stuff https://docs.digital.mass.gov/dataset/massgis-data-layers\n",
    "\n",
    "be sure you're using massachussets state plane. mass.gov stuff will come in like that, but the census data probably won't. don't forget to set that.\n",
    "\n",
    "open street map can help bring in restaurants!"
   ]
  },
  {
   "cell_type": "markdown",
   "id": "4ab29f31",
   "metadata": {},
   "source": [
    "contextily lets you bring in basemaps \n",
    "\n"
   ]
  }
 ],
 "metadata": {
  "kernelspec": {
   "display_name": "Python 3",
   "language": "python",
   "name": "python3"
  },
  "language_info": {
   "codemirror_mode": {
    "name": "ipython",
    "version": 3
   },
   "file_extension": ".py",
   "mimetype": "text/x-python",
   "name": "python",
   "nbconvert_exporter": "python",
   "pygments_lexer": "ipython3",
   "version": "3.8.6"
  }
 },
 "nbformat": 4,
 "nbformat_minor": 5
}
